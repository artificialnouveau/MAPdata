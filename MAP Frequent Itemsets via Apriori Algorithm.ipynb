{
 "cells": [
  {
   "cell_type": "code",
   "execution_count": 1,
   "metadata": {},
   "outputs": [],
   "source": [
    "import pandas as pd\n",
    "import numpy as np\n",
    "\n",
    "pd.set_option('display.max_rows', None)\n",
    "pd.set_option('display.max_columns', None)\n",
    "pd.set_option('display.width', None)\n",
    "pd.set_option('display.max_colwidth', None)\n",
    "pd.options.display.float_format = '{:.4f}'.format\n",
    "\n",
    "from mlxtend.preprocessing import TransactionEncoder\n",
    "from mlxtend.frequent_patterns import apriori"
   ]
  },
  {
   "cell_type": "markdown",
   "metadata": {},
   "source": [
    "Objective: Apriori function to extract frequent itemsets for association rule mining\n",
    "\n",
    "Text and code from: http://rasbt.github.io/mlxtend/user_guide/frequent_patterns/apriori/"
   ]
  },
  {
   "cell_type": "code",
   "execution_count": 2,
   "metadata": {},
   "outputs": [],
   "source": [
    "df=pd.read_csv('./MAPdata/SHR76_19.csv')\n",
    "#df=df.replace('Unknown', np.nan)"
   ]
  },
  {
   "cell_type": "code",
   "execution_count": 3,
   "metadata": {},
   "outputs": [
    {
     "data": {
      "text/plain": [
       "['ID',\n",
       " 'CNTYFIPS',\n",
       " 'Ori',\n",
       " 'State',\n",
       " 'Agency',\n",
       " 'Agentype',\n",
       " 'Source',\n",
       " 'Solved',\n",
       " 'Year',\n",
       " 'StateName',\n",
       " 'Month',\n",
       " 'Incident',\n",
       " 'ActionType',\n",
       " 'Homicide',\n",
       " 'Situation',\n",
       " 'VicAge',\n",
       " 'VicSex',\n",
       " 'VicRace',\n",
       " 'VicEthnic',\n",
       " 'OffAge',\n",
       " 'OffSex',\n",
       " 'OffRace',\n",
       " 'OffEthnic',\n",
       " 'Weapon',\n",
       " 'Relationship',\n",
       " 'Circumstance',\n",
       " 'Subcircum',\n",
       " 'VicCount',\n",
       " 'OffCount',\n",
       " 'FileDate',\n",
       " 'MSA']"
      ]
     },
     "execution_count": 3,
     "metadata": {},
     "output_type": "execute_result"
    }
   ],
   "source": [
    "#Display columns in list\n",
    "list(df.columns)"
   ]
  },
  {
   "cell_type": "code",
   "execution_count": 4,
   "metadata": {},
   "outputs": [
    {
     "name": "stdout",
     "output_type": "stream",
     "text": [
      "Number of rows in dataframe 804751\n"
     ]
    }
   ],
   "source": [
    "print('Number of rows in dataframe',len(df))"
   ]
  },
  {
   "cell_type": "code",
   "execution_count": 5,
   "metadata": {},
   "outputs": [
    {
     "name": "stdout",
     "output_type": "stream",
     "text": [
      "Number of rows per state\n"
     ]
    },
    {
     "data": {
      "text/plain": [
       "California              120462\n",
       "Texas                    77226\n",
       "New York                 59516\n",
       "Florida                  45970\n",
       "Michigan                 35326\n",
       "Illinois                 35298\n",
       "Pennsylvania             30898\n",
       "Georgia                  26515\n",
       "North Carolina           25666\n",
       "Ohio                     25197\n",
       "Louisiana                24992\n",
       "Maryland                 21449\n",
       "Virginia                 19784\n",
       "Missouri                 19723\n",
       "Tennessee                19188\n",
       "New Jersey               17550\n",
       "Alabama                  16772\n",
       "Arizona                  15841\n",
       "South Carolina           15303\n",
       "Indiana                  14654\n",
       "Oklahoma                 11184\n",
       "Washington                9635\n",
       "Kentucky                  9307\n",
       "Arkansas                  8860\n",
       "District of Columbia      8673\n",
       "Colorado                  8497\n",
       "Mississippi               8215\n",
       "Wisconsin                 8050\n",
       "Massachusetts             7538\n",
       "Nevada                    7112\n",
       "Connecticut               5864\n",
       "New Mexico                5417\n",
       "Oregon                    5256\n",
       "Minnesota                 5045\n",
       "Kansas                    4185\n",
       "West Virginia             3948\n",
       "Utah                      2587\n",
       "Iowa                      2373\n",
       "Alaska                    2177\n",
       "Nebraska                  1777\n",
       "Hawaii                    1774\n",
       "Delaware                  1606\n",
       "Idaho                     1555\n",
       "Rhodes Island             1461\n",
       "Maine                     1132\n",
       "Montana                    922\n",
       "New Hampshire              852\n",
       "Wyoming                    824\n",
       "South Dakota               620\n",
       "Vermont                    518\n",
       "North Dakota               457\n",
       "Name: State, dtype: int64"
      ]
     },
     "execution_count": 5,
     "metadata": {},
     "output_type": "execute_result"
    }
   ],
   "source": [
    "print('Number of rows per state')\n",
    "df.State.value_counts()"
   ]
  },
  {
   "cell_type": "code",
   "execution_count": 6,
   "metadata": {},
   "outputs": [
    {
     "name": "stdout",
     "output_type": "stream",
     "text": [
      "Distribution of Victims\n"
     ]
    },
    {
     "data": {
      "text/plain": [
       "Black Male                                   0.3911\n",
       "White Male                                   0.3603\n",
       "White Female                                 0.1337\n",
       "Black Female                                 0.0815\n",
       "Asian Male                                   0.0100\n",
       "Unknown Male                                 0.0073\n",
       "American Indian or Alaskan Native Male       0.0055\n",
       "Asian Female                                 0.0044\n",
       "Unknown Female                               0.0023\n",
       "American Indian or Alaskan Native Female     0.0020\n",
       "Unknown Unknown                              0.0015\n",
       "White Unknown                                0.0001\n",
       "Native Hawaiian or Pacific Islander Male     0.0001\n",
       "Black Unknown                                0.0001\n",
       "Native Hawaiian or Pacific Islander Female   0.0000\n",
       "Asian Unknown                                0.0000\n",
       "American Indian or Alaskan Native Unknown    0.0000\n",
       "Name: VicRaceSex, dtype: float64"
      ]
     },
     "execution_count": 6,
     "metadata": {},
     "output_type": "execute_result"
    }
   ],
   "source": [
    "print('Distribution of Victims')\n",
    "df['VicRaceSex']=df['VicRace']+' '+df['VicSex']\n",
    "df.VicRaceSex.value_counts(normalize=True)"
   ]
  },
  {
   "cell_type": "code",
   "execution_count": 7,
   "metadata": {},
   "outputs": [
    {
     "data": {
      "text/plain": [
       "<matplotlib.axes._subplots.AxesSubplot at 0x7fa28fccd0a0>"
      ]
     },
     "execution_count": 7,
     "metadata": {},
     "output_type": "execute_result"
    },
    {
     "data": {
      "image/png": "[encoded data removed]",
      "text/plain": [
       "<Figure size 432x288 with 1 Axes>"
      ]
     },
     "metadata": {
      "needs_background": "light"
     },
     "output_type": "display_data"
    }
   ],
   "source": [
    "df.groupby(df['Year']).size().plot()"
   ]
  },
  {
   "cell_type": "markdown",
   "metadata": {},
   "source": [
    "Time for the Frequent Itemset"
   ]
  },
  {
   "cell_type": "code",
   "execution_count": 8,
   "metadata": {},
   "outputs": [
    {
     "data": {
      "text/html": [
       "<div>\n",
       "<style scoped>\n",
       "    .dataframe tbody tr th:only-of-type {\n",
       "        vertical-align: middle;\n",
       "    }\n",
       "\n",
       "    .dataframe tbody tr th {\n",
       "        vertical-align: top;\n",
       "    }\n",
       "\n",
       "    .dataframe thead th {\n",
       "        text-align: right;\n",
       "    }\n",
       "</style>\n",
       "<table border=\"1\" class=\"dataframe\">\n",
       "  <thead>\n",
       "    <tr style=\"text-align: right;\">\n",
       "      <th></th>\n",
       "      <th>State</th>\n",
       "      <th>CNTYFIPS</th>\n",
       "      <th>MSA</th>\n",
       "      <th>VicSex</th>\n",
       "      <th>VicRace</th>\n",
       "      <th>Weapon</th>\n",
       "    </tr>\n",
       "  </thead>\n",
       "  <tbody>\n",
       "    <tr>\n",
       "      <th>446</th>\n",
       "      <td>Alaska</td>\n",
       "      <td>Anchorage, AK</td>\n",
       "      <td>Anchorage, AK</td>\n",
       "      <td>Female</td>\n",
       "      <td>Black</td>\n",
       "      <td>Handgun - pistol, revolver, etc</td>\n",
       "    </tr>\n",
       "    <tr>\n",
       "      <th>447</th>\n",
       "      <td>Alaska</td>\n",
       "      <td>Anchorage, AK</td>\n",
       "      <td>Anchorage, AK</td>\n",
       "      <td>Female</td>\n",
       "      <td>White</td>\n",
       "      <td>Handgun - pistol, revolver, etc</td>\n",
       "    </tr>\n",
       "    <tr>\n",
       "      <th>448</th>\n",
       "      <td>Alaska</td>\n",
       "      <td>Anchorage, AK</td>\n",
       "      <td>Anchorage, AK</td>\n",
       "      <td>Male</td>\n",
       "      <td>Asian</td>\n",
       "      <td>Personal weapons, includes beating</td>\n",
       "    </tr>\n",
       "    <tr>\n",
       "      <th>449</th>\n",
       "      <td>Alaska</td>\n",
       "      <td>Anchorage, AK</td>\n",
       "      <td>Anchorage, AK</td>\n",
       "      <td>Male</td>\n",
       "      <td>Asian</td>\n",
       "      <td>Personal weapons, includes beating</td>\n",
       "    </tr>\n",
       "    <tr>\n",
       "      <th>450</th>\n",
       "      <td>Alaska</td>\n",
       "      <td>Anchorage, AK</td>\n",
       "      <td>Anchorage, AK</td>\n",
       "      <td>Female</td>\n",
       "      <td>American Indian or Alaskan Native</td>\n",
       "      <td>Knife or cutting instrument</td>\n",
       "    </tr>\n",
       "  </tbody>\n",
       "</table>\n",
       "</div>"
      ],
      "text/plain": [
       "      State       CNTYFIPS            MSA  VicSex  \\\n",
       "446  Alaska  Anchorage, AK  Anchorage, AK  Female   \n",
       "447  Alaska  Anchorage, AK  Anchorage, AK  Female   \n",
       "448  Alaska  Anchorage, AK  Anchorage, AK    Male   \n",
       "449  Alaska  Anchorage, AK  Anchorage, AK    Male   \n",
       "450  Alaska  Anchorage, AK  Anchorage, AK  Female   \n",
       "\n",
       "                               VicRace                              Weapon  \n",
       "446                              Black     Handgun - pistol, revolver, etc  \n",
       "447                              White     Handgun - pistol, revolver, etc  \n",
       "448                              Asian  Personal weapons, includes beating  \n",
       "449                              Asian  Personal weapons, includes beating  \n",
       "450  American Indian or Alaskan Native         Knife or cutting instrument  "
      ]
     },
     "execution_count": 8,
     "metadata": {},
     "output_type": "execute_result"
    }
   ],
   "source": [
    "#only interested in cases since 2000\n",
    "df2000=df[df['Year']>=2000]\n",
    "#Generating a unique Frequent Itemset number based upon the geography (either county or metropolitan area), victims' gender and method of killing.\n",
    "dfsub=df2000[['State','CNTYFIPS',\"MSA\",'VicSex','VicRace','Weapon']]\n",
    "dfsub_list = dfsub.to_numpy()\n",
    "dfsub.head()\n"
   ]
  },
  {
   "cell_type": "markdown",
   "metadata": {},
   "source": [
    "Text and code from: http://rasbt.github.io/mlxtend/user_guide/frequent_patterns/apriori/\n",
    "\n",
    "Apriori is a popular algorithm for extracting frequent itemsets with applications in association rule learning. An itemset is considered as \"frequent\" if it meets a user-specified support threshold. For instance, if the support threshold is set to 0.5 (50%), a frequent itemset is defined as a set of items that occur together in at least 50% of all transactions in the database.\n",
    "\n",
    "The apriori function expects data in a one-hot encoded pandas DataFrame. Suppose we have the following transaction data:"
   ]
  },
  {
   "cell_type": "code",
   "execution_count": 9,
   "metadata": {},
   "outputs": [],
   "source": [
    "te = TransactionEncoder()\n",
    "te_ary = te.fit(dfsub_list).transform(dfsub_list)\n",
    "dfsubte = pd.DataFrame(te_ary, columns=te.columns_)"
   ]
  },
  {
   "cell_type": "code",
   "execution_count": 10,
   "metadata": {},
   "outputs": [
    {
     "data": {
      "text/html": [
       "<div>\n",
       "<style scoped>\n",
       "    .dataframe tbody tr th:only-of-type {\n",
       "        vertical-align: middle;\n",
       "    }\n",
       "\n",
       "    .dataframe tbody tr th {\n",
       "        vertical-align: top;\n",
       "    }\n",
       "\n",
       "    .dataframe thead th {\n",
       "        text-align: right;\n",
       "    }\n",
       "</style>\n",
       "<table border=\"1\" class=\"dataframe\">\n",
       "  <thead>\n",
       "    <tr style=\"text-align: right;\">\n",
       "      <th></th>\n",
       "      <th>support</th>\n",
       "      <th>itemsets</th>\n",
       "      <th>length</th>\n",
       "    </tr>\n",
       "  </thead>\n",
       "  <tbody>\n",
       "    <tr>\n",
       "      <th>0</th>\n",
       "      <td>0.4912</td>\n",
       "      <td>(Black)</td>\n",
       "      <td>1</td>\n",
       "    </tr>\n",
       "    <tr>\n",
       "      <th>1</th>\n",
       "      <td>0.4833</td>\n",
       "      <td>(Handgun - pistol, revolver, etc)</td>\n",
       "      <td>1</td>\n",
       "    </tr>\n",
       "    <tr>\n",
       "      <th>2</th>\n",
       "      <td>0.7815</td>\n",
       "      <td>(Male)</td>\n",
       "      <td>1</td>\n",
       "    </tr>\n",
       "    <tr>\n",
       "      <th>3</th>\n",
       "      <td>0.4701</td>\n",
       "      <td>(White)</td>\n",
       "      <td>1</td>\n",
       "    </tr>\n",
       "    <tr>\n",
       "      <th>4</th>\n",
       "      <td>0.4180</td>\n",
       "      <td>(Black, Male)</td>\n",
       "      <td>2</td>\n",
       "    </tr>\n",
       "    <tr>\n",
       "      <th>5</th>\n",
       "      <td>0.4109</td>\n",
       "      <td>(Male, Handgun - pistol, revolver, etc)</td>\n",
       "      <td>2</td>\n",
       "    </tr>\n",
       "  </tbody>\n",
       "</table>\n",
       "</div>"
      ],
      "text/plain": [
       "   support                                 itemsets  length\n",
       "0   0.4912                                  (Black)       1\n",
       "1   0.4833        (Handgun - pistol, revolver, etc)       1\n",
       "2   0.7815                                   (Male)       1\n",
       "3   0.4701                                  (White)       1\n",
       "4   0.4180                            (Black, Male)       2\n",
       "5   0.4109  (Male, Handgun - pistol, revolver, etc)       2"
      ]
     },
     "execution_count": 10,
     "metadata": {},
     "output_type": "execute_result"
    }
   ],
   "source": [
    "frequent_itemsets = apriori(dfsubte, min_support=0.4, use_colnames=True)\n",
    "frequent_itemsets['length'] = frequent_itemsets['itemsets'].apply(lambda x: len(x))\n",
    "frequent_itemsets"
   ]
  },
  {
   "cell_type": "markdown",
   "metadata": {},
   "source": [
    "The advantage of working with pandas DataFrames is that we can use its convenient features to filter the results. For instance, let's assume we are only interested in itemsets of length 2 that have a support of at least 80 percent. First, we create the frequent itemsets via apriori and add a new column that stores the length of each itemset.Then, we can select the results that satisfy our desired criteria as follows:"
   ]
  },
  {
   "cell_type": "code",
   "execution_count": 11,
   "metadata": {},
   "outputs": [],
   "source": [
    "#I am interested in 3 or more similar cases out of the 804751 cases, so the threshold is 3/804751\n",
    "custom_thres=3/len(df2000)\n",
    "\n",
    "#Although this takes a very long time to run, I would recommend either increasing the threshold,\n",
    "#or by reducing the dataframe size. You can do this by subselecting the state/region\n",
    "#or by only looking at solved or solved cases"
   ]
  },
  {
   "cell_type": "code",
   "execution_count": null,
   "metadata": {},
   "outputs": [],
   "source": [
    "# I am interested in cases are similiar in state, county/metro, victim race and weapon used, so I'm interested in \n",
    "# a variable that has a length of at least 4\n",
    "\n",
    "custom_length=4\n",
    "frequent_itemsets = apriori(dfsubte, min_support=custom_thres, use_colnames=True)\n",
    "frequent_itemsets['length'] = frequent_itemsets['itemsets'].apply(lambda x: len(x))\n",
    "frequent_itemsets[ (frequent_itemsets['length']>=custom_length)]\n"
   ]
  },
  {
   "cell_type": "code",
   "execution_count": null,
   "metadata": {},
   "outputs": [],
   "source": [
    "#If you are interested in specific variables\n",
    "frequent_itemsets[ frequent_itemsets['itemsets'] == {'Black', 'Male'} ]"
   ]
  }
 ],
 "metadata": {
  "kernelspec": {
   "display_name": "Python 3",
   "language": "python",
   "name": "python3"
  },
  "language_info": {
   "codemirror_mode": {
    "name": "ipython",
    "version": 3
   },
   "file_extension": ".py",
   "mimetype": "text/x-python",
   "name": "python",
   "nbconvert_exporter": "python",
   "pygments_lexer": "ipython3",
   "version": "3.8.3"
  }
 },
 "nbformat": 4,
 "nbformat_minor": 4
}
